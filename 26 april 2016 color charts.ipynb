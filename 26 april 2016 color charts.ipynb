{
 "cells": [
  {
   "cell_type": "code",
   "execution_count": 1,
   "metadata": {
    "collapsed": false
   },
   "outputs": [],
   "source": [
    "import pickle\n",
    "import sys\n",
    "sys.path.extend(['C:\\\\git\\\\thesis_clean_v2'])\n",
    "from OriKerasExtension.ThesisHelper import readCompleteMatFile, ExtractDataVer4\n",
    "from experiments.pretrained_by_colors.color_utils import create_color_dictionary, get_color_from_stimuli\n",
    "from keras.utils.np_utils import to_categorical\n",
    "from scipy import stats\n"
   ]
  },
  {
   "cell_type": "code",
   "execution_count": 2,
   "metadata": {
    "collapsed": false
   },
   "outputs": [],
   "source": [
    "results = pickle.load(  open( r\"C:\\git\\thesis_clean_v2\\experiments\\pretrained_by_colors\\save_25_april_predict_color_take_3.p\", \"rb\" ) )"
   ]
  },
  {
   "cell_type": "code",
   "execution_count": 3,
   "metadata": {
    "collapsed": false
   },
   "outputs": [
    {
     "data": {
      "text/plain": [
       "11"
      ]
     },
     "execution_count": 3,
     "metadata": {},
     "output_type": "execute_result"
    }
   ],
   "source": [
    "len(results)"
   ]
  },
  {
   "cell_type": "code",
   "execution_count": 4,
   "metadata": {
    "collapsed": true
   },
   "outputs": [],
   "source": [
    "\n",
    "\n",
    "\n",
    "def downsample_data(data, number_of_original_samples, down_samples_param):\n",
    "    new_number_of_time_stamps = number_of_original_samples / down_samples_param\n",
    "\n",
    "    temp_data_for_eval = np.zeros((data.shape[0], new_number_of_time_stamps, data.shape[2]))\n",
    "\n",
    "    for new_i, i in enumerate(range(0, number_of_original_samples, down_samples_param)):\n",
    "        temp_data_for_eval[:, new_i, :] = np.mean(data[:, range(i, (i + down_samples_param)), :], axis=1)\n",
    "    return temp_data_for_eval\n",
    "\n",
    "def create_letter_test_data_color(gcd_res, down_samples_param, jitter=20):\n",
    "    last_time_stamp = 800 + jitter\n",
    "    fist_time_stamp = -200 +jitter\n",
    "    color_dictionary = create_color_dictionary()\n",
    "    data_for_eval = ExtractDataVer4(gcd_res['all_relevant_channels'], gcd_res['marker_positions'],\n",
    "                                    gcd_res['target'], fist_time_stamp, last_time_stamp)\n",
    "\n",
    "    print data_for_eval[0].shape\n",
    "    temp_data_for_eval = downsample_data(data_for_eval[0], data_for_eval[0].shape[1], down_samples_param)\n",
    "\n",
    "    all_data = temp_data_for_eval[np.all([gcd_res['train_mode'] == 3], axis=0)]\n",
    "\n",
    "    categorical_tags = to_categorical(\n",
    "        get_color_from_stimuli(gcd_res['stimulus'][gcd_res['train_mode'] == 3], color_dictionary))\n",
    "    shuffeled_samples, suffule_tags = (all_data, categorical_tags)\n",
    "    return shuffeled_samples, suffule_tags"
   ]
  },
  {
   "cell_type": "code",
   "execution_count": 5,
   "metadata": {
    "collapsed": false
   },
   "outputs": [
    {
     "name": "stderr",
     "output_type": "stream",
     "text": [
      "Using Theano backend.\n",
      "Using gpu device 0: GeForce GT 740M (CNMeM is disabled, CuDNN not available)\n",
      "C:\\Anaconda\\lib\\site-packages\\theano\\tensor\\signal\\downsample.py:5: UserWarning: downsample module has been moved to the pool module.\n",
      "  warnings.warn(\"downsample module has been moved to the pool module.\")\n"
     ]
    }
   ],
   "source": [
    "from keras.layers import Convolution2D, Activation, MaxPooling2D, Flatten, Dense, LSTM, Dropout\n",
    "from keras.models import Sequential\n",
    "from keras.regularizers import l2\n",
    "\n"
   ]
  },
  {
   "cell_type": "code",
   "execution_count": 6,
   "metadata": {
    "collapsed": true
   },
   "outputs": [],
   "source": [
    "\"\"\"\n",
    "define the neural network model:\n",
    "\"\"\"\n",
    "model_lstm = Sequential()\n",
    "\n",
    "model_lstm.add(LSTM(input_dim=55, output_dim=20, return_sequences=True))\n",
    "model_lstm.add(Dropout(0.01))\n",
    "model_lstm.add(LSTM(input_dim=20, output_dim=20, return_sequences=False))\n",
    "#     model_lstm.add(Dropout(0.01))\n",
    "#     model_lstm.add(LSTM(input_dim=20, output_dim=20,return_sequences=False))\n",
    "model_lstm.add(Dense(5, W_regularizer=l2(0.006)))\n",
    "model_lstm.add(Activation('softmax'))\n",
    "model_lstm.compile(loss='categorical_crossentropy', optimizer='rmsprop',)\n",
    "\n"
   ]
  },
  {
   "cell_type": "code",
   "execution_count": 7,
   "metadata": {
    "collapsed": false
   },
   "outputs": [],
   "source": [
    "import keras\n",
    "\"\"\"\n",
    "define the neural network model:\n",
    "\"\"\"\n",
    "model_mpl = Sequential()\n",
    "model_mpl.add(keras.layers.core.Flatten(input_shape=(55, 25)))\n",
    "model_mpl.add(Dense(input_dim=55 * 25, output_dim=20))\n",
    "model_mpl.add(Dropout(0.3))\n",
    "model_mpl.add(Activation('tanh'))\n",
    "model_mpl.add(Dense(output_dim=20, W_regularizer=l2(0.06)))\n",
    "model_mpl.add(Activation('tanh'))\n",
    "model_mpl.add(Dense(5))\n",
    "model_mpl.add(Activation('softmax'))\n",
    "model_mpl.compile(loss='categorical_crossentropy', optimizer='rmsprop')"
   ]
  },
  {
   "cell_type": "code",
   "execution_count": 8,
   "metadata": {
    "collapsed": false
   },
   "outputs": [
    {
     "name": "stdout",
     "output_type": "stream",
     "text": [
      "0.755925925926\n",
      "0.765925925926\n",
      "['train_losses', 'train_accuracies', 'weights', 'val_accuracies', 'val_losses']\n"
     ]
    },
    {
     "data": {
      "image/png": "[encoded data removed]",
      "text/plain": [
       "<matplotlib.figure.Figure at 0x38373be0>"
      ]
     },
     "metadata": {},
     "output_type": "display_data"
    },
    {
     "data": {
      "image/png": "[encoded data removed]",
      "text/plain": [
       "<matplotlib.figure.Figure at 0x39b2f400>"
      ]
     },
     "metadata": {},
     "output_type": "display_data"
    },
    {
     "data": {
      "image/png": "[encoded data removed]",
      "text/plain": [
       "<matplotlib.figure.Figure at 0x3e54cd68>"
      ]
     },
     "metadata": {},
     "output_type": "display_data"
    },
    {
     "data": {
      "image/png": "[encoded data removed]",
      "text/plain": [
       "<matplotlib.figure.Figure at 0x3e654fd0>"
      ]
     },
     "metadata": {},
     "output_type": "display_data"
    }
   ],
   "source": [
    "import matplotlib.pyplot as plt\n",
    "%matplotlib inline \n",
    "print results[0]['lstm_history']['val_accuracies'][-1]\n",
    "print results[0]['mlp_history']['val_accuracies'][-1]\n",
    "print results[0]['mlp_history'].keys()\n",
    "plt.plot(results[0]['lstm_history']['train_accuracies'])\n",
    "plt.plot(results[0]['lstm_history']['val_accuracies'])\n",
    "plt.show()\n",
    "\n",
    "plt.plot(results[0]['lstm_history']['train_losses'])\n",
    "plt.plot(results[0]['lstm_history']['val_losses'])\n",
    "plt.show()\n",
    "\n",
    "\n",
    "plt.plot(results[0]['mlp_history']['train_accuracies'])\n",
    "plt.plot(results[0]['mlp_history']['val_accuracies'])\n",
    "plt.show()\n",
    "\n",
    "plt.plot(results[0]['mlp_history']['train_losses'])\n",
    "plt.plot(results[0]['mlp_history']['val_losses'])\n",
    "plt.show()\n"
   ]
  },
  {
   "cell_type": "code",
   "execution_count": 9,
   "metadata": {
    "collapsed": false
   },
   "outputs": [
    {
     "name": "stdout",
     "output_type": "stream",
     "text": [
      "(18600L, 200L, 55L)\n",
      "5400/5400 [==============================] - 2s     \n",
      "5400/5400 [==============================] - 0s     \n",
      "[0.7227054717805651, 0.78629629629629627]\n",
      "[0.27781800543820417, 0.91000000000000003]\n",
      "(20700L, 200L, 55L)\n",
      "7500/7500 [==============================] - 3s     \n",
      "7500/7500 [==============================] - 0s     \n",
      "[0.33644002221425373, 0.89826666666666666]\n",
      "[0.080946023495992031, 0.97266666666666668]\n",
      "(18600L, 200L, 55L)\n",
      "5400/5400 [==============================] - 3s     \n",
      "5400/5400 [==============================] - 0s     \n",
      "[0.38728941131521155, 0.88574074074074072]\n",
      "[0.21753094720619695, 0.93296296296296299]\n",
      "(19500L, 200L, 55L)\n",
      "6300/6300 [==============================] - 3s     \n",
      "6300/6300 [==============================] - 0s     \n",
      "[0.27452504216678558, 0.91698412698412701]\n",
      "[0.12580730973728119, 0.95793650793650797]\n",
      "(18300L, 200L, 55L)\n",
      "5100/5100 [==============================] - 3s     \n",
      "5100/5100 [==============================] - 0s     \n",
      "[0.46234185920042148, 0.84745098039215683]\n",
      "[0.16313615471709009, 0.94215686274509802]\n",
      "(21000L, 200L, 55L)\n",
      "7800/7800 [==============================] - 4s     \n",
      "7800/7800 [==============================] - 0s     \n",
      "[0.6496944074141674, 0.79820512820512823]\n",
      "[0.38790197985294539, 0.87974358974358979]\n",
      "(18600L, 200L, 55L)\n",
      "5400/5400 [==============================] - 2s     \n",
      "5400/5400 [==============================] - 0s     \n",
      "[1.6007219634232697, 0.38574074074074072]\n",
      "[0.50378975673958104, 0.82111111111111112]\n",
      "(21000L, 200L, 55L)\n",
      "7800/7800 [==============================] - 3s     \n",
      "7800/7800 [==============================] - 0s     \n",
      "[1.7807063069710365, 0.30320512820512818]\n",
      "[0.87866195244666856, 0.68807692307692303]\n",
      "(20400L, 200L, 55L)\n",
      "7200/7200 [==============================] - 4s     \n",
      "7200/7200 [==============================] - 0s     \n",
      "[1.5159643332163493, 0.45819444444444446]\n",
      "[0.58624794642130529, 0.8075]\n",
      "(19200L, 200L, 55L)\n",
      "6000/6000 [==============================] - 3s     \n",
      "6000/6000 [==============================] - 0s     \n",
      "[1.735167292912801, 0.31133333333333335]\n",
      "[0.88471115573247272, 0.72766666666666668]\n",
      "(19200L, 200L, 55L)\n",
      "6000/6000 [==============================] - 3s     \n",
      "6000/6000 [==============================] - 0s     \n",
      "[0.64151271422704059, 0.77700000000000002]\n",
      "[0.33075812530517579, 0.88733333333333331]\n"
     ]
    }
   ],
   "source": [
    "import numpy as np\n",
    "data_set_locations = [\"RSVP_Color116msVPicr.mat\",\n",
    "                      \"RSVP_Color116msVPpia.mat\",\n",
    "                      \"RSVP_Color116msVPfat.mat\",\n",
    "                      \"RSVP_Color116msVPgcb.mat\",\n",
    "                      \"RSVP_Color116msVPgcc.mat\",\n",
    "                      \"RSVP_Color116msVPgcd.mat\",\n",
    "                      \"RSVP_Color116msVPgcf.mat\",\n",
    "                      \"RSVP_Color116msVPgcg.mat\",\n",
    "                      \"RSVP_Color116msVPgch.mat\",\n",
    "                      \"RSVP_Color116msVPiay.mat\",\n",
    "                      \"RSVP_Color116msVPicn.mat\"];\n",
    "lstm_accuracy = []\n",
    "mlp_accuracy = []\n",
    "for i, subject_name in enumerate(data_set_locations):\n",
    "    file_name = r'C:\\Users\\ORI\\Documents\\Thesis\\dataset_all\\{0}'.format(subject_name)\n",
    "    gcd_res = readCompleteMatFile(file_name)\n",
    "    jitter = 0\n",
    "#     for jitter in range(-50,50,25):\n",
    "    single_subject_test_data, single_subject_test_tags = create_letter_test_data_color(gcd_res, down_samples_param=8,jitter=jitter)\n",
    "    model_lstm.set_weights(results[i]['lstm_history']['weights'])\n",
    "    model_mpl.set_weights(results[i]['mlp_history']['weights'])\n",
    "    lstm_eval_res = model_lstm.evaluate(stats.zscore(single_subject_test_data, axis=1),single_subject_test_tags, show_accuracy=True)\n",
    "    mlp_eval_res = model_mpl.evaluate(stats.zscore(single_subject_test_data, axis=1),single_subject_test_tags, show_accuracy=True)\n",
    "    print lstm_eval_res\n",
    "    print mlp_eval_res\n",
    "    lstm_accuracy.append([subject_name,lstm_eval_res[1]])\n",
    "    mlp_accuracy.append([subject_name,mlp_eval_res[1]])\n",
    "    \n"
   ]
  },
  {
   "cell_type": "code",
   "execution_count": 13,
   "metadata": {
    "collapsed": false
   },
   "outputs": [
    {
     "name": "stdout",
     "output_type": "stream",
     "text": [
      "[['RSVP_Color116msVPicr.mat', 0.78629629629629627], ['RSVP_Color116msVPpia.mat', 0.89826666666666666], ['RSVP_Color116msVPfat.mat', 0.88574074074074072], ['RSVP_Color116msVPgcb.mat', 0.91698412698412701], ['RSVP_Color116msVPgcc.mat', 0.84745098039215683], ['RSVP_Color116msVPgcd.mat', 0.79820512820512823], ['RSVP_Color116msVPgcf.mat', 0.38574074074074072], ['RSVP_Color116msVPgcg.mat', 0.30320512820512818], ['RSVP_Color116msVPgch.mat', 0.45819444444444446], ['RSVP_Color116msVPiay.mat', 0.31133333333333335], ['RSVP_Color116msVPicn.mat', 0.77700000000000002]]\n"
     ]
    }
   ],
   "source": [
    "print accuracy"
   ]
  },
  {
   "cell_type": "code",
   "execution_count": 46,
   "metadata": {
    "collapsed": false
   },
   "outputs": [
    {
     "data": {
      "image/png": "[encoded data removed]",
      "text/plain": [
       "<matplotlib.figure.Figure at 0x422f5860>"
      ]
     },
     "metadata": {},
     "output_type": "display_data"
    }
   ],
   "source": [
    "fig, ax = plt.subplots()\n",
    "\n",
    "ind = np.arange(len(lstm_accuracy))\n",
    "width = 0.35\n",
    "\n",
    "rects1 = ax.bar(ind,[x[1]for x in lstm_accuracy],color='r')\n",
    "ax.set_xticks(ind + width)\n",
    "ax.set_xticklabels([x[0][-7:-4] for x in lstm_accuracy])\n",
    "plt.show()"
   ]
  },
  {
   "cell_type": "code",
   "execution_count": 21,
   "metadata": {
    "collapsed": false
   },
   "outputs": [
    {
     "data": {
      "text/plain": [
       "[0.78629629629629627,\n",
       " 0.89826666666666666,\n",
       " 0.88574074074074072,\n",
       " 0.91698412698412701,\n",
       " 0.84745098039215683,\n",
       " 0.79820512820512823,\n",
       " 0.38574074074074072,\n",
       " 0.30320512820512818,\n",
       " 0.45819444444444446,\n",
       " 0.31133333333333335,\n",
       " 0.77700000000000002]"
      ]
     },
     "execution_count": 21,
     "metadata": {},
     "output_type": "execute_result"
    }
   ],
   "source": [
    "[x[1]for x in lstm_accuracy]"
   ]
  },
  {
   "cell_type": "code",
   "execution_count": null,
   "metadata": {
    "collapsed": true
   },
   "outputs": [],
   "source": []
  }
 ],
 "metadata": {
  "kernelspec": {
   "display_name": "Python 2",
   "language": "python",
   "name": "python2"
  },
  "language_info": {
   "codemirror_mode": {
    "name": "ipython",
    "version": 2
   },
   "file_extension": ".py",
   "mimetype": "text/x-python",
   "name": "python",
   "nbconvert_exporter": "python",
   "pygments_lexer": "ipython2",
   "version": "2.7.11"
  }
 },
 "nbformat": 4,
 "nbformat_minor": 0
}
