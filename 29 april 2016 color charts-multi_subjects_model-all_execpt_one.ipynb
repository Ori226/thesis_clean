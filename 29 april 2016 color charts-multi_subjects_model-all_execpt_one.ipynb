{
 "cells": [
  {
   "cell_type": "code",
   "execution_count": 1,
   "metadata": {
    "collapsed": false
   },
   "outputs": [],
   "source": [
    "import pickle\n",
    "import sys\n",
    "sys.path.extend(['C:\\\\git\\\\thesis_clean_v2'])\n",
    "from OriKerasExtension.ThesisHelper import readCompleteMatFile, ExtractDataVer4\n",
    "from experiments.pretrained_by_colors.color_utils import create_color_dictionary, get_color_from_stimuli\n",
    "from keras.utils.np_utils import to_categorical\n",
    "from scipy import stats\n"
   ]
  },
  {
   "cell_type": "code",
   "execution_count": 2,
   "metadata": {
    "collapsed": false
   },
   "outputs": [],
   "source": [
    "results = pickle.load(  open( r\"C:\\git\\thesis_clean_v2\\experiments\\pretrained_by_colors\\save_28_april_predict_color_all_subjects_aggregated_except_one.p\", \"rb\" ) )"
   ]
  },
  {
   "cell_type": "code",
   "execution_count": 3,
   "metadata": {
    "collapsed": false
   },
   "outputs": [
    {
     "data": {
      "text/plain": [
       "11"
      ]
     },
     "execution_count": 3,
     "metadata": {},
     "output_type": "execute_result"
    }
   ],
   "source": [
    "len(results)"
   ]
  },
  {
   "cell_type": "code",
   "execution_count": 26,
   "metadata": {
    "collapsed": true
   },
   "outputs": [],
   "source": [
    "\n",
    "\n",
    "\n",
    "def downsample_data(data, number_of_original_samples, down_samples_param):\n",
    "    new_number_of_time_stamps = number_of_original_samples / down_samples_param\n",
    "\n",
    "    temp_data_for_eval = np.zeros((data.shape[0], new_number_of_time_stamps, data.shape[2]))\n",
    "\n",
    "    for new_i, i in enumerate(range(0, number_of_original_samples, down_samples_param)):\n",
    "        temp_data_for_eval[:, new_i, :] = np.mean(data[:, range(i, (i + down_samples_param)), :], axis=1)\n",
    "    return temp_data_for_eval\n",
    "\n",
    "def create_letter_test_data_color(gcd_res, down_samples_param, jitter=20):\n",
    "    last_time_stamp = 800 + jitter\n",
    "    fist_time_stamp = -200 +jitter\n",
    "    color_dictionary = create_color_dictionary()\n",
    "    data_for_eval = ExtractDataVer4(gcd_res['all_relevant_channels'], gcd_res['marker_positions'],\n",
    "                                    gcd_res['target'], fist_time_stamp, last_time_stamp)\n",
    "\n",
    "    print data_for_eval[0].shape\n",
    "    temp_data_for_eval = downsample_data(data_for_eval[0], data_for_eval[0].shape[1], down_samples_param)\n",
    "\n",
    "    all_data = temp_data_for_eval[np.all([gcd_res['train_mode'] == 2], axis=0)]\n",
    "\n",
    "    categorical_tags = to_categorical(\n",
    "        get_color_from_stimuli(gcd_res['stimulus'][gcd_res['train_mode'] == 2], color_dictionary))\n",
    "    shuffeled_samples, suffule_tags = (all_data, categorical_tags)\n",
    "    return shuffeled_samples, suffule_tags"
   ]
  },
  {
   "cell_type": "code",
   "execution_count": 5,
   "metadata": {
    "collapsed": false
   },
   "outputs": [
    {
     "name": "stderr",
     "output_type": "stream",
     "text": [
      "Using Theano backend.\n",
      "Using gpu device 0: GeForce GT 740M (CNMeM is disabled, CuDNN not available)\n",
      "C:\\Anaconda\\lib\\site-packages\\theano\\tensor\\signal\\downsample.py:5: UserWarning: downsample module has been moved to the pool module.\n",
      "  warnings.warn(\"downsample module has been moved to the pool module.\")\n"
     ]
    }
   ],
   "source": [
    "from keras.layers import Convolution2D, Activation, MaxPooling2D, Flatten, Dense, LSTM, Dropout\n",
    "from keras.models import Sequential\n",
    "from keras.regularizers import l2\n",
    "\n"
   ]
  },
  {
   "cell_type": "code",
   "execution_count": 6,
   "metadata": {
    "collapsed": true
   },
   "outputs": [],
   "source": [
    "\"\"\"\n",
    "define the neural network model:\n",
    "\"\"\"\n",
    "model_lstm = Sequential()\n",
    "\n",
    "model_lstm.add(LSTM(input_dim=55, output_dim=20, return_sequences=True))\n",
    "model_lstm.add(Dropout(0.01))\n",
    "model_lstm.add(LSTM(input_dim=20, output_dim=20, return_sequences=False))\n",
    "#     model_lstm.add(Dropout(0.01))\n",
    "#     model_lstm.add(LSTM(input_dim=20, output_dim=20,return_sequences=False))\n",
    "model_lstm.add(Dense(5, W_regularizer=l2(0.006)))\n",
    "model_lstm.add(Activation('softmax'))\n",
    "model_lstm.compile(loss='categorical_crossentropy', optimizer='rmsprop',)\n",
    "\n"
   ]
  },
  {
   "cell_type": "code",
   "execution_count": 7,
   "metadata": {
    "collapsed": false
   },
   "outputs": [],
   "source": [
    "import keras\n",
    "\"\"\"\n",
    "define the neural network model:\n",
    "\"\"\"\n",
    "model_mpl = Sequential()\n",
    "model_mpl.add(keras.layers.core.Flatten(input_shape=(55, 25)))\n",
    "model_mpl.add(Dense(input_dim=55 * 25, output_dim=20))\n",
    "model_mpl.add(Dropout(0.3))\n",
    "model_mpl.add(Activation('tanh'))\n",
    "model_mpl.add(Dense(output_dim=20, W_regularizer=l2(0.06)))\n",
    "model_mpl.add(Activation('tanh'))\n",
    "model_mpl.add(Dense(5))\n",
    "model_mpl.add(Activation('softmax'))\n",
    "model_mpl.compile(loss='categorical_crossentropy', optimizer='rmsprop')"
   ]
  },
  {
   "cell_type": "code",
   "execution_count": 23,
   "metadata": {
    "collapsed": false
   },
   "outputs": [
    {
     "data": {
      "image/png": "[encoded data removed]",
      "text/plain": [
       "<matplotlib.figure.Figure at 0x4074dc88>"
      ]
     },
     "metadata": {},
     "output_type": "display_data"
    },
    {
     "data": {
      "image/png": "[encoded data removed]",
      "text/plain": [
       "<matplotlib.figure.Figure at 0x4127dbe0>"
      ]
     },
     "metadata": {},
     "output_type": "display_data"
    },
    {
     "data": {
      "image/png": "[encoded data removed]",
      "text/plain": [
       "<matplotlib.figure.Figure at 0x4148be10>"
      ]
     },
     "metadata": {},
     "output_type": "display_data"
    },
    {
     "data": {
      "image/png": "[encoded data removed]",
      "text/plain": [
       "<matplotlib.figure.Figure at 0x414c4978>"
      ]
     },
     "metadata": {},
     "output_type": "display_data"
    }
   ],
   "source": [
    "import matplotlib.pyplot as plt\n",
    "%matplotlib inline \n",
    "# print results[0][0]\n",
    "# print results[0]['lstm_history']['val_accuracies'][-1]\n",
    "# print results[0]['mlp_history']['val_accuracies'][-1]\n",
    "# print results[0]['mlp_history'].keys()\n",
    "counter = 4\n",
    "plt.plot(results[counter][0]['lstm_history']['train_accuracies'])\n",
    "plt.plot(results[counter][0]['lstm_history']['val_accuracies'])\n",
    "plt.show()\n",
    "\n",
    "plt.plot(results[counter][0]['lstm_history']['train_losses'])\n",
    "plt.plot(results[counter][0]['lstm_history']['val_losses'])\n",
    "plt.show()\n",
    "\n",
    "\n",
    "plt.plot(results[counter][0]['mlp_history']['train_accuracies'])\n",
    "plt.plot(results[counter][0]['mlp_history']['val_accuracies'])\n",
    "plt.show()\n",
    "\n",
    "plt.plot(results[counter][0]['mlp_history']['train_losses'])\n",
    "plt.plot(results[counter][0]['mlp_history']['val_losses'])\n",
    "plt.show()\n"
   ]
  },
  {
   "cell_type": "code",
   "execution_count": 28,
   "metadata": {
    "collapsed": false
   },
   "outputs": [
    {
     "name": "stdout",
     "output_type": "stream",
     "text": [
      "(18600L, 200L, 55L)\n",
      "6000/6000 [==============================] - 5s     \n",
      "6000/6000 [==============================] - 0s     \n",
      "[1.0990880746841432, 0.62333333333333329]\n",
      "[1.2275035673777261, 0.62316666666666665]\n",
      "(20700L, 200L, 55L)\n",
      "6000/6000 [==============================] - 5s     \n",
      "6000/6000 [==============================] - 0s     \n",
      "[1.2801186602910359, 0.54716666666666669]\n",
      "[1.4521771306991578, 0.5601666666666667]\n",
      "(18600L, 200L, 55L)\n",
      "6000/6000 [==============================] - 6s     \n",
      "6000/6000 [==============================] - 0s     \n",
      "[0.43999695173899334, 0.84866666666666668]\n",
      "[0.4018290739059448, 0.85716666666666663]\n",
      "(19500L, 200L, 55L)\n",
      "6000/6000 [==============================] - 5s     \n",
      "6000/6000 [==============================] - 0s     \n",
      "[0.4747388205528259, 0.83850000000000002]\n",
      "[0.36895943760871885, 0.86150000000000004]\n",
      "(18300L, 200L, 55L)\n",
      "6000/6000 [==============================] - 5s     \n",
      "6000/6000 [==============================] - 0s     \n",
      "[0.45805621512730915, 0.85266666666666668]\n",
      "[0.52908132632573446, 0.8075]\n",
      "(21000L, 200L, 55L)\n",
      "6000/6000 [==============================] - 5s     \n",
      "6000/6000 [==============================] - 0s     \n",
      "[0.62155304527282718, 0.77349999999999997]\n",
      "[0.78513268438975015, 0.73816666666666664]\n",
      "(18600L, 200L, 55L)\n",
      "6000/6000 [==============================] - 5s     \n",
      "6000/6000 [==============================] - 0s     \n",
      "[1.5712355753580729, 0.41933333333333334]\n",
      "[2.0867417774200439, 0.38366666666666666]\n",
      "(21000L, 200L, 55L)\n",
      "6000/6000 [==============================] - 5s     \n",
      "6000/6000 [==============================] - 0s     \n",
      "[1.5100064303080241, 0.44733333333333336]\n",
      "[2.1394404201507569, 0.40933333333333333]\n",
      "(20400L, 200L, 55L)\n",
      "6000/6000 [==============================] - 5s     \n",
      "6000/6000 [==============================] - 0s     \n",
      "[1.8244098202387491, 0.40799999999999997]\n",
      "[1.9273778114318847, 0.45900000000000002]\n",
      "(19200L, 200L, 55L)\n",
      "6000/6000 [==============================] - 5s     \n",
      "6000/6000 [==============================] - 0s     \n",
      "[1.4472602497736613, 0.50800000000000001]\n",
      "[1.5940875269571939, 0.55033333333333334]\n",
      "(19200L, 200L, 55L)\n",
      "6000/6000 [==============================] - 6s     \n",
      "6000/6000 [==============================] - 0s     \n",
      "[0.87905375130971275, 0.69266666666666665]\n",
      "[1.0949736620585124, 0.67983333333333329]\n"
     ]
    }
   ],
   "source": [
    "import numpy as np\n",
    "\n",
    "data_set_locations = [\"RSVP_Color83msVPicr.mat\",\n",
    "                      \"RSVP_Color83msVPpia.mat\",\n",
    "                      \"RSVP_Color83msVPfat.mat\",\n",
    "                      \"RSVP_Color83msVPgcb.mat\",\n",
    "                      \"RSVP_Color83msVPgcc.mat\",\n",
    "                      \"RSVP_Color83msVPgcd.mat\",\n",
    "                      \"RSVP_Color83msVPgcf.mat\",\n",
    "                      \"RSVP_Color83msVPgcg.mat\",\n",
    "                      \"RSVP_Color83msVPgch.mat\",\n",
    "                      \"RSVP_Color83msVPiay.mat\",\n",
    "                      \"RSVP_Color83msVPicn.mat\"];\n",
    "\n",
    "\n",
    "data_set_locations = [\"RSVP_Color116msVPicr.mat\",\n",
    "                      \"RSVP_Color116msVPpia.mat\",\n",
    "                      \"RSVP_Color116msVPfat.mat\",\n",
    "                      \"RSVP_Color116msVPgcb.mat\",\n",
    "                      \"RSVP_Color116msVPgcc.mat\",\n",
    "                      \"RSVP_Color116msVPgcd.mat\",\n",
    "                      \"RSVP_Color116msVPgcf.mat\",\n",
    "                      \"RSVP_Color116msVPgcg.mat\",\n",
    "                      \"RSVP_Color116msVPgch.mat\",\n",
    "                      \"RSVP_Color116msVPiay.mat\",\n",
    "                      \"RSVP_Color116msVPicn.mat\"];\n",
    "\n",
    "lstm_accuracy = []\n",
    "mlp_accuracy = []\n",
    "\n",
    "for i, subject_name in enumerate(data_set_locations):\n",
    "    model_lstm.set_weights(results[i][0]['lstm_history']['weights'])\n",
    "    model_mpl.set_weights(results[i][0]['mlp_history']['weights'])\n",
    "    file_name = r'C:\\Users\\ORI\\Documents\\Thesis\\dataset_all\\{0}'.format(subject_name)\n",
    "    gcd_res = readCompleteMatFile(file_name)\n",
    "    jitter = 0\n",
    "#     for jitter in range(-50,50,25):\n",
    "    single_subject_test_data, single_subject_test_tags = create_letter_test_data_color(gcd_res, down_samples_param=8,jitter=jitter)\n",
    "    \n",
    "    lstm_eval_res = model_lstm.evaluate(stats.zscore(single_subject_test_data, axis=1),single_subject_test_tags, show_accuracy=True)\n",
    "    mlp_eval_res = model_mpl.evaluate(stats.zscore(single_subject_test_data, axis=1),single_subject_test_tags, show_accuracy=True)\n",
    "    print lstm_eval_res\n",
    "    print mlp_eval_res\n",
    "    lstm_accuracy.append([subject_name,lstm_eval_res[1]])\n",
    "    mlp_accuracy.append([subject_name,mlp_eval_res[1]])\n",
    "    \n"
   ]
  },
  {
   "cell_type": "code",
   "execution_count": 29,
   "metadata": {
    "collapsed": false
   },
   "outputs": [
    {
     "ename": "NameError",
     "evalue": "name 'accuracy' is not defined",
     "output_type": "error",
     "traceback": [
      "\u001b[1;31m---------------------------------------------------------------------------\u001b[0m",
      "\u001b[1;31mNameError\u001b[0m                                 Traceback (most recent call last)",
      "\u001b[1;32m<ipython-input-29-fccd2f3a372e>\u001b[0m in \u001b[0;36m<module>\u001b[1;34m()\u001b[0m\n\u001b[1;32m----> 1\u001b[1;33m \u001b[1;32mprint\u001b[0m \u001b[0maccuracy\u001b[0m\u001b[1;33m\u001b[0m\u001b[0m\n\u001b[0m",
      "\u001b[1;31mNameError\u001b[0m: name 'accuracy' is not defined"
     ]
    }
   ],
   "source": [
    "print accuracy"
   ]
  },
  {
   "cell_type": "code",
   "execution_count": 30,
   "metadata": {
    "collapsed": false
   },
   "outputs": [
    {
     "data": {
      "image/png": "[encoded data removed]",
      "text/plain": [
       "<matplotlib.figure.Figure at 0x3cf91748>"
      ]
     },
     "metadata": {},
     "output_type": "display_data"
    }
   ],
   "source": [
    "fig, ax = plt.subplots()\n",
    "\n",
    "ind = np.arange(len(lstm_accuracy))\n",
    "width = 0.2\n",
    "rects1 = ax.bar(ind + width,[x[1]for x in mlp_accuracy],width,color='g')\n",
    "rects1 = ax.bar(ind,[x[1]for x in lstm_accuracy],width,color='r')\n",
    "ax.set_xticks(ind + width)\n",
    "ax.set_xticklabels([x[0][-7:-4] for x in lstm_accuracy])\n",
    "plt.show()"
   ]
  },
  {
   "cell_type": "code",
   "execution_count": 31,
   "metadata": {
    "collapsed": false
   },
   "outputs": [
    {
     "data": {
      "image/png": "[encoded data removed]",
      "text/plain": [
       "<matplotlib.figure.Figure at 0x3feadcf8>"
      ]
     },
     "metadata": {},
     "output_type": "display_data"
    }
   ],
   "source": [
    "fig, ax = plt.subplots()\n",
    "rects1 = ax.bar(ind,[x[1]for x in mlp_accuracy],color='r')\n",
    "ax.set_xticks(ind + width)\n",
    "ax.set_xticklabels([x[0][-7:-4] for x in lstm_accuracy])\n",
    "plt.show()"
   ]
  },
  {
   "cell_type": "code",
   "execution_count": null,
   "metadata": {
    "collapsed": true
   },
   "outputs": [],
   "source": []
  }
 ],
 "metadata": {
  "kernelspec": {
   "display_name": "Python 2",
   "language": "python",
   "name": "python2"
  },
  "language_info": {
   "codemirror_mode": {
    "name": "ipython",
    "version": 2
   },
   "file_extension": ".py",
   "mimetype": "text/x-python",
   "name": "python",
   "nbconvert_exporter": "python",
   "pygments_lexer": "ipython2",
   "version": "2.7.11"
  }
 },
 "nbformat": 4,
 "nbformat_minor": 0
}
